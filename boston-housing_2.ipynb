{
 "cells": [
  {
   "cell_type": "markdown",
   "id": "c7946242",
   "metadata": {},
   "source": [
    "## Постановка задачи\n",
    "\n",
    "* скачать датасет https://github.com/mcsml/ml_basics/blob/master/hw2.csv\n",
    "* обучить модель, используя scikit-learn\n",
    "* выбрать продвинутый вариант:\n",
    "\n",
    "1) **решить задачу другим способом**\n",
    "\n",
    "2) оптимизировать функции, реализиованные на Python\n",
    "\n",
    "3) попробовать свои силы на датасете https://www.kaggle.com/c/boston-housing"
   ]
  },
  {
   "cell_type": "code",
   "execution_count": 4,
   "id": "f19f2ab4",
   "metadata": {},
   "outputs": [],
   "source": [
    "import numpy as np # импортируем библиотеку Numpy\n",
    "import pandas as pd # импортируем библиотеку Pandas\n",
    "import matplotlib.pyplot as plt # импортируем библиотеку Matplotlib\n",
    "from sklearn.linear_model import LinearRegression # импортируем библиотеку scikit-learn и её класс LinearRegression для работы с линейной регрессией"
   ]
  },
  {
   "cell_type": "code",
   "execution_count": 5,
   "id": "34430b28",
   "metadata": {},
   "outputs": [
    {
     "data": {
      "text/html": [
       "<div>\n",
       "<style scoped>\n",
       "    .dataframe tbody tr th:only-of-type {\n",
       "        vertical-align: middle;\n",
       "    }\n",
       "\n",
       "    .dataframe tbody tr th {\n",
       "        vertical-align: top;\n",
       "    }\n",
       "\n",
       "    .dataframe thead th {\n",
       "        text-align: right;\n",
       "    }\n",
       "</style>\n",
       "<table border=\"1\" class=\"dataframe\">\n",
       "  <thead>\n",
       "    <tr style=\"text-align: right;\">\n",
       "      <th></th>\n",
       "      <th>Unnamed: 0</th>\n",
       "      <th>X</th>\n",
       "      <th>Y</th>\n",
       "    </tr>\n",
       "  </thead>\n",
       "  <tbody>\n",
       "    <tr>\n",
       "      <th>0</th>\n",
       "      <td>0</td>\n",
       "      <td>52.283138</td>\n",
       "      <td>-39403.717469</td>\n",
       "    </tr>\n",
       "    <tr>\n",
       "      <th>1</th>\n",
       "      <td>1</td>\n",
       "      <td>47.721231</td>\n",
       "      <td>-38805.816488</td>\n",
       "    </tr>\n",
       "    <tr>\n",
       "      <th>2</th>\n",
       "      <td>2</td>\n",
       "      <td>50.798843</td>\n",
       "      <td>-34070.976995</td>\n",
       "    </tr>\n",
       "    <tr>\n",
       "      <th>3</th>\n",
       "      <td>3</td>\n",
       "      <td>52.392715</td>\n",
       "      <td>-34105.400403</td>\n",
       "    </tr>\n",
       "    <tr>\n",
       "      <th>4</th>\n",
       "      <td>4</td>\n",
       "      <td>55.959325</td>\n",
       "      <td>-32684.917373</td>\n",
       "    </tr>\n",
       "  </tbody>\n",
       "</table>\n",
       "</div>"
      ],
      "text/plain": [
       "   Unnamed: 0          X             Y\n",
       "0           0  52.283138 -39403.717469\n",
       "1           1  47.721231 -38805.816488\n",
       "2           2  50.798843 -34070.976995\n",
       "3           3  52.392715 -34105.400403\n",
       "4           4  55.959325 -32684.917373"
      ]
     },
     "execution_count": 5,
     "metadata": {},
     "output_type": "execute_result"
    }
   ],
   "source": [
    "boston2_data = pd.read_csv('https://raw.githubusercontent.com/Andruchelli/Boston-housing_2/main/hw2.csv') # прочитаем файл\n",
    "boston2_data.head() # проверяем, что файл прочитался"
   ]
  },
  {
   "cell_type": "code",
   "execution_count": 8,
   "id": "34db474d",
   "metadata": {},
   "outputs": [
    {
     "data": {
      "text/plain": [
       "LinearRegression()"
      ]
     },
     "execution_count": 8,
     "metadata": {},
     "output_type": "execute_result"
    }
   ],
   "source": [
    "model = LinearRegression() # вызываем конструктор класса линейной регрессии, который представит модель регрессии\n",
    "model"
   ]
  },
  {
   "cell_type": "code",
   "execution_count": 14,
   "id": "e07b787b",
   "metadata": {},
   "outputs": [
    {
     "data": {
      "text/plain": [
       "(175, 3)"
      ]
     },
     "execution_count": 14,
     "metadata": {},
     "output_type": "execute_result"
    }
   ],
   "source": [
    "boston2_data.shape # смотрим размерность нашего датасета"
   ]
  },
  {
   "cell_type": "markdown",
   "id": "2744cd79",
   "metadata": {},
   "source": [
    "Строим график по координатам x и y, представленных в датасете"
   ]
  },
  {
   "cell_type": "code",
   "execution_count": 17,
   "id": "fef1ba42",
   "metadata": {},
   "outputs": [
    {
     "data": {
      "image/png": "[encoded data removed]",
      "text/plain": [
       "<Figure size 432x288 with 1 Axes>"
      ]
     },
     "metadata": {
      "needs_background": "light"
     },
     "output_type": "display_data"
    }
   ],
   "source": [
    "boston2_data.plot(x = 'X', y = 'Y', style = 'o')\n",
    "plt.xlabel('X')\n",
    "plt.ylabel('Y')\n",
    "plt.show()"
   ]
  },
  {
   "cell_type": "code",
   "execution_count": 31,
   "id": "9d2805e2",
   "metadata": {},
   "outputs": [],
   "source": [
    "# задаём данные в двумерные массивы, так как наша формула адаптирована под массивы, проходясь по их элементам\n",
    "x = np.array(boston2_data['X'])\n",
    "y = np.array(boston2_data['Y'])"
   ]
  },
  {
   "cell_type": "code",
   "execution_count": 32,
   "id": "5b816f1f",
   "metadata": {},
   "outputs": [
    {
     "data": {
      "text/plain": [
       "LinearRegression()"
      ]
     },
     "execution_count": 32,
     "metadata": {},
     "output_type": "execute_result"
    }
   ],
   "source": [
    "model.fit(x.reshape(-1, 1), y.reshape(-1, 1)) # обучаем модель, передавая ей данные x (входные данные, например стоимость квартиры, расстояние до метро) и y (готовые ответы из тренировочных данных)"
   ]
  },
  {
   "cell_type": "code",
   "execution_count": 33,
   "id": "a2cae5c6",
   "metadata": {},
   "outputs": [],
   "source": [
    "y_pred = model.predict(x.reshape(-1, 1)) # предстказываем данные с помощью метода predict, куда передаём новые, свежие данные x, которые ранее не вносились в модель "
   ]
  },
  {
   "cell_type": "code",
   "execution_count": 34,
   "id": "c49e9838",
   "metadata": {},
   "outputs": [
    {
     "data": {
      "text/plain": [
       "array([[-36408.14207017],\n",
       "       [-33038.85614785],\n",
       "       [-35311.88727157],\n",
       "       [-36489.07239323],\n",
       "       [-39123.26217719],\n",
       "       [-34445.29732727],\n",
       "       [-38802.35532002],\n",
       "       [-28820.0241027 ],\n",
       "       [-25870.6377456 ],\n",
       "       [-40087.54124288],\n",
       "       [-31395.57319659],\n",
       "       [-36820.33168726],\n",
       "       [-36014.59553604],\n",
       "       [-27669.7297647 ],\n",
       "       [-53983.42137475],\n",
       "       [-52411.57220379],\n",
       "       [-63459.38558317],\n",
       "       [-30432.19165063],\n",
       "       [-31698.81828522],\n",
       "       [-29455.11757258],\n",
       "       [-24774.59921525],\n",
       "       [-31226.43538526],\n",
       "       [-38265.27696422],\n",
       "       [-31646.26961278],\n",
       "       [-50028.5242579 ],\n",
       "       [-34565.2689755 ],\n",
       "       [-48504.15398003],\n",
       "       [-26872.47960128],\n",
       "       [-36967.47386746],\n",
       "       [-39333.74864953],\n",
       "       [-43436.9687252 ],\n",
       "       [-31785.30229471],\n",
       "       [-38383.7266687 ],\n",
       "       [-36006.66483687],\n",
       "       [-64005.96312677],\n",
       "       [-35012.76840657],\n",
       "       [-35124.10876413],\n",
       "       [-35026.86332045],\n",
       "       [-26914.71692002],\n",
       "       [-33720.93221308],\n",
       "       [-40693.34342373],\n",
       "       [-38815.02977034],\n",
       "       [-33399.30881244],\n",
       "       [-55244.98541896],\n",
       "       [-34025.25949015],\n",
       "       [-33947.14052013],\n",
       "       [-45379.80005161],\n",
       "       [-49347.73392438],\n",
       "       [-41888.37055651],\n",
       "       [-40585.00126783],\n",
       "       [-35970.77816536],\n",
       "       [-38779.2263908 ],\n",
       "       [-23688.28932855],\n",
       "       [-51184.66459189],\n",
       "       [-45439.61294592],\n",
       "       [-47556.47248789],\n",
       "       [-34300.29499319],\n",
       "       [-43811.65221642],\n",
       "       [-38158.51057758],\n",
       "       [-44116.32045656],\n",
       "       [-47674.38258875],\n",
       "       [-50571.31317776],\n",
       "       [-34235.49853635],\n",
       "       [-48797.11675962],\n",
       "       [-45942.44906303],\n",
       "       [-40456.86751708],\n",
       "       [-30715.01957493],\n",
       "       [-51571.34017811],\n",
       "       [-30299.79639159],\n",
       "       [-51652.0467908 ],\n",
       "       [-24961.70674208],\n",
       "       [-38106.99746517],\n",
       "       [-24936.34540564],\n",
       "       [-35269.96414287],\n",
       "       [-32536.95545641],\n",
       "       [-58499.90183432],\n",
       "       [-42856.38393564],\n",
       "       [-49901.57199657],\n",
       "       [-42450.77712123],\n",
       "       [-49998.41322147],\n",
       "       [-41815.85743429],\n",
       "       [-39343.15051187],\n",
       "       [-54763.74558159],\n",
       "       [-33504.52119464],\n",
       "       [-36043.9994267 ],\n",
       "       [-43409.75076315],\n",
       "       [-36938.18578656],\n",
       "       [-51828.44254593],\n",
       "       [-35853.91246711],\n",
       "       [-27526.15864504],\n",
       "       [-41799.2934169 ],\n",
       "       [-34012.27641617],\n",
       "       [-49173.12802632],\n",
       "       [-33015.35291297],\n",
       "       [-42653.8006305 ],\n",
       "       [-46522.41350272],\n",
       "       [-35639.80946144],\n",
       "       [-63500.40685957],\n",
       "       [-30522.59720126],\n",
       "       [-74300.37995269],\n",
       "       [-33802.02700055],\n",
       "       [-43260.24291097],\n",
       "       [-32622.54188583],\n",
       "       [-25959.77973133],\n",
       "       [-43966.48899891],\n",
       "       [-35849.63221724],\n",
       "       [-35528.07622987],\n",
       "       [-35928.97487885],\n",
       "       [-44889.48541627],\n",
       "       [-26480.26582311],\n",
       "       [-38586.04606335],\n",
       "       [-30085.24234128],\n",
       "       [-33361.54944435],\n",
       "       [-42412.09588756],\n",
       "       [-30886.17953063],\n",
       "       [-39767.49615724],\n",
       "       [-29139.1349125 ],\n",
       "       [-35745.88600431],\n",
       "       [-29120.66826378],\n",
       "       [-33503.30994734],\n",
       "       [-32830.25283455],\n",
       "       [-37400.63219006],\n",
       "       [-26305.2639761 ],\n",
       "       [-34483.54461895],\n",
       "       [-39118.60601256],\n",
       "       [-35238.81302944],\n",
       "       [-63847.56420125],\n",
       "       [-42289.53364489],\n",
       "       [-34158.12551642],\n",
       "       [-42633.39060496],\n",
       "       [-35005.13504978],\n",
       "       [-39004.76266951],\n",
       "       [-48954.64633896],\n",
       "       [-42386.94936195],\n",
       "       [-35975.49668928],\n",
       "       [-35551.68817228],\n",
       "       [-35886.83734814],\n",
       "       [-34298.43493838],\n",
       "       [-34320.50483068],\n",
       "       [-38943.69147849],\n",
       "       [-28671.68709048],\n",
       "       [-40486.48612116],\n",
       "       [-38841.69889403],\n",
       "       [-28815.40778492],\n",
       "       [-31064.16880556],\n",
       "       [-33271.29962109],\n",
       "       [-51324.76250369],\n",
       "       [-27897.694777  ],\n",
       "       [-33058.42484324],\n",
       "       [-20601.76088363],\n",
       "       [-48170.95222836],\n",
       "       [-29507.448693  ],\n",
       "       [-47497.42552924],\n",
       "       [-35054.48234907],\n",
       "       [-49667.30448009],\n",
       "       [-30044.08562347],\n",
       "       [-31038.01241537],\n",
       "       [-35993.08741711],\n",
       "       [-39510.93654085],\n",
       "       [-54187.68473355],\n",
       "       [-33403.44232936],\n",
       "       [-38441.95811422],\n",
       "       [-32896.72445756],\n",
       "       [-29555.49371376],\n",
       "       [-25039.08188412],\n",
       "       [-29840.516149  ],\n",
       "       [-67522.3356319 ],\n",
       "       [-40681.17979968],\n",
       "       [-32731.50443126],\n",
       "       [-47054.11923521],\n",
       "       [-36984.47219578],\n",
       "       [-56027.60123625],\n",
       "       [-45800.13085303],\n",
       "       [-64113.07194698],\n",
       "       [-31350.90847909]])"
      ]
     },
     "execution_count": 34,
     "metadata": {},
     "output_type": "execute_result"
    }
   ],
   "source": [
    "y_pred"
   ]
  },
  {
   "cell_type": "code",
   "execution_count": 40,
   "id": "9d0a01af",
   "metadata": {},
   "outputs": [
    {
     "data": {
      "image/png": "[encoded data removed]",
      "text/plain": [
       "<Figure size 432x288 with 1 Axes>"
      ]
     },
     "metadata": {
      "needs_background": "light"
     },
     "output_type": "display_data"
    }
   ],
   "source": [
    "plt.plot(x, y, 'o') # выводим исходные данные x и y\n",
    "plt.plot(x, y_pred) # выводим x и предсказанные данные y_pred (линия на графике означает новые предсказанные данные)\n",
    "plt.xlabel('X')\n",
    "plt.ylabel('Y')\n",
    "plt.show()"
   ]
  },
  {
   "cell_type": "code",
   "execution_count": 41,
   "id": "e1a970ae",
   "metadata": {},
   "outputs": [
    {
     "data": {
      "text/plain": [
       "array([[-738.56962042]])"
      ]
     },
     "execution_count": 41,
     "metadata": {},
     "output_type": "execute_result"
    }
   ],
   "source": [
    "model.coef_ # вес (коэффициент)"
   ]
  },
  {
   "cell_type": "code",
   "execution_count": 42,
   "id": "6ddfb723",
   "metadata": {},
   "outputs": [
    {
     "data": {
      "text/plain": [
       "array([2206.59501132])"
      ]
     },
     "execution_count": 42,
     "metadata": {},
     "output_type": "execute_result"
    }
   ],
   "source": [
    "model.intercept_ # пересечение (параметр b, байес) - пересечение построенной выше на графике линии с осью y"
   ]
  },
  {
   "cell_type": "markdown",
   "id": "a42fa8dd",
   "metadata": {},
   "source": [
    "Модель линейной регрессии с одной независимой переменной может быть задана линейной функцией, представленной следующим образом:\n",
    "$$ y = ax + b $$\n",
    "где a - это коэффициент наклона, b (параметр b, байес) - пересечение графика функции с осью y.\n",
    "Формула для вычисления коэффициента a выглядит следующим образом:\n",
    "$$ a = \\frac {\\sum (x - \\overline{\\rm x})(y - \\overline{\\rm y})}{\\sum (x - \\overline{\\rm x})^2} $$\n",
    "\n",
    "параметр b вычисляется таким образом:\n",
    "$$ b = \\overline{\\rm y} - ay $$"
   ]
  },
  {
   "cell_type": "markdown",
   "id": "3ad79b8b",
   "metadata": {},
   "source": [
    "Находим коэффициенты функции"
   ]
  },
  {
   "cell_type": "code",
   "execution_count": 87,
   "id": "efb7b40c",
   "metadata": {},
   "outputs": [
    {
     "data": {
      "text/plain": [
       "(-738.5696204205815, 2206.5950113236468)"
      ]
     },
     "execution_count": 87,
     "metadata": {},
     "output_type": "execute_result"
    }
   ],
   "source": [
    "x = np.array(boston2_data['X'])\n",
    "y = np.array(boston2_data['Y'])\n",
    "\n",
    "mx = x - x.mean() # x среднее\n",
    "my = y - y.mean() # y среднее\n",
    "a = sum(mx * my) / sum(mx**2) # коэффициент наклона\n",
    "b = y.mean() - a * x.mean() # параметр байес\n",
    "lin_reg = a*x + b # высчитываем результат линейной функции\n",
    "a, b # выводим параметры a и b для проверки"
   ]
  },
  {
   "cell_type": "markdown",
   "id": "2c7bf6c5",
   "metadata": {},
   "source": [
    "Строим график полученной функции и выводим исходные данные x и y"
   ]
  },
  {
   "cell_type": "code",
   "execution_count": 88,
   "id": "91763c26",
   "metadata": {},
   "outputs": [
    {
     "data": {
      "image/png": "[encoded data removed]",
      "text/plain": [
       "<Figure size 432x288 with 1 Axes>"
      ]
     },
     "metadata": {
      "needs_background": "light"
     },
     "output_type": "display_data"
    }
   ],
   "source": [
    "plt.plot(x, y, 'o') # выводим исходные данные x и y\n",
    "plt.plot(x, lin_reg) # выводим x и строим график линейной функции lin_reg (линия на графике означает новые предсказанные данные)\n",
    "plt.xlabel('X')\n",
    "plt.ylabel('Y')\n",
    "plt.show()"
   ]
  },
  {
   "cell_type": "code",
   "execution_count": null,
   "id": "990aebf1",
   "metadata": {},
   "outputs": [],
   "source": []
  }
 ],
 "metadata": {
  "kernelspec": {
   "display_name": "Python 3 (ipykernel)",
   "language": "python",
   "name": "python3"
  },
  "language_info": {
   "codemirror_mode": {
    "name": "ipython",
    "version": 3
   },
   "file_extension": ".py",
   "mimetype": "text/x-python",
   "name": "python",
   "nbconvert_exporter": "python",
   "pygments_lexer": "ipython3",
   "version": "3.9.12"
  }
 },
 "nbformat": 4,
 "nbformat_minor": 5
}
